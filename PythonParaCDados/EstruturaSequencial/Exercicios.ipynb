{
 "cells": [
  {
   "cell_type": "markdown",
   "id": "6339a497",
   "metadata": {},
   "source": [
    "### Exercício 1"
   ]
  },
  {
   "cell_type": "code",
   "execution_count": null,
   "id": "bc055776",
   "metadata": {},
   "outputs": [],
   "source": [
    "a = int(input(\"A: \"))\n",
    "b = int(input(\"B: \"))\n",
    "c = int(input(\"C: \"))\n",
    "media = (a + b + c) / 3\n",
    "print(f\"Média = {media:.2f}\")\n"
   ]
  },
  {
   "cell_type": "markdown",
   "id": "a0afe28b",
   "metadata": {},
   "source": [
    "### Exercício 2"
   ]
  },
  {
   "cell_type": "code",
   "execution_count": null,
   "id": "bd4308c4",
   "metadata": {},
   "outputs": [],
   "source": [
    "nasc = int(input(\"Ano de nascimento: \"))\n",
    "ano_atual = int(input(\"Ano atual: \"))\n",
    "idade_atual = ano_atual - nasc\n",
    "idade_2050 = 2050 - nasc\n",
    "print(f\"Idade agora: {idade_atual}\")\n",
    "print(f\"Idade em 2050: {idade_2050}\")\n"
   ]
  },
  {
   "cell_type": "markdown",
   "id": "176740df",
   "metadata": {},
   "source": [
    "### Exercício 3"
   ]
  },
  {
   "cell_type": "code",
   "execution_count": null,
   "id": "98fa34f3",
   "metadata": {},
   "outputs": [],
   "source": [
    "import math\n",
    "\n",
    "a = float(input(\"a: \"))\n",
    "b = float(input(\"b: \"))\n",
    "c = float(input(\"c: \"))\n",
    "\n",
    "delta = b**2 - 4*a*c\n",
    "raiz = math.sqrt(delta)\n",
    "x1 = (-b + raiz) / (2*a)\n",
    "x2 = (-b - raiz) / (2*a)\n",
    "print(f\"x1 = {x1}\")\n",
    "print(f\"x2 = {x2}\")\n"
   ]
  },
  {
   "cell_type": "markdown",
   "id": "f98abbb0",
   "metadata": {},
   "source": [
    "### Exercício 4"
   ]
  },
  {
   "cell_type": "code",
   "execution_count": null,
   "id": "97617f38",
   "metadata": {},
   "outputs": [],
   "source": [
    "n = int(input(\"Número: \"))\n",
    "for i in range(1, 11):\n",
    "    print(f\"{n} X {i} = {n * i}\")\n"
   ]
  },
  {
   "cell_type": "markdown",
   "id": "99e3ec2a",
   "metadata": {},
   "source": [
    "### Exercício 5"
   ]
  },
  {
   "cell_type": "code",
   "execution_count": null,
   "id": "54530d74",
   "metadata": {},
   "outputs": [],
   "source": [
    "import math\n",
    "\n",
    "n = float(input(\"Número positivo: \").replace(\",\", \".\"))\n",
    "print(f\"Quadrado: {n**2}\")\n",
    "print(f\"Cubo: {n**3}\")\n",
    "print(f\"Raiz quadrada: {math.sqrt(n)}\")\n",
    "print(f\"Raiz cúbica: {n ** (1/3)}\")\n"
   ]
  },
  {
   "cell_type": "markdown",
   "id": "eb648ce2",
   "metadata": {},
   "source": [
    "### Exercício 6"
   ]
  },
  {
   "cell_type": "code",
   "execution_count": null,
   "id": "7b25cc64",
   "metadata": {},
   "outputs": [],
   "source": [
    "valor = float(input(\"Valor gasto (R$): \").replace(\",\", \".\"))\n",
    "gorjeta = valor * 0.10\n",
    "print(f\"Gorjeta (10%): R$ {gorjeta:.2f}\")\n"
   ]
  },
  {
   "cell_type": "markdown",
   "id": "8c539904",
   "metadata": {},
   "source": [
    "### Exercício 7"
   ]
  },
  {
   "cell_type": "code",
   "execution_count": null,
   "id": "91955a66",
   "metadata": {},
   "outputs": [],
   "source": [
    "h = float(input(\"Altura (m): \").replace(\",\", \".\"))\n",
    "p = 72.7 * h - 58\n",
    "print(f\"Peso ideal (homem): {p:.2f} kg\")\n"
   ]
  },
  {
   "cell_type": "markdown",
   "id": "e0766555",
   "metadata": {},
   "source": [
    "### Exercício 8"
   ]
  },
  {
   "cell_type": "code",
   "execution_count": null,
   "id": "21041a53",
   "metadata": {},
   "outputs": [],
   "source": [
    "h = float(input(\"Altura (m): \").replace(\",\", \".\"))\n",
    "p = 62.1 * h - 44.7\n",
    "print(f\"Peso ideal (mulher): {p:.2f} kg\")\n"
   ]
  },
  {
   "cell_type": "markdown",
   "id": "49f3ec9e",
   "metadata": {},
   "source": [
    "### Exercício 9"
   ]
  },
  {
   "cell_type": "code",
   "execution_count": null,
   "id": "ca07a690",
   "metadata": {},
   "outputs": [],
   "source": [
    "a = input(\"A: \")\n",
    "b = input(\"B: \")\n",
    "a, b = b, a\n",
    "print(f\"A = {a}, B = {b}\")\n"
   ]
  },
  {
   "cell_type": "markdown",
   "id": "3646a854",
   "metadata": {},
   "source": [
    "### Exercício 10"
   ]
  },
  {
   "cell_type": "code",
   "execution_count": null,
   "id": "7889c74b",
   "metadata": {},
   "outputs": [],
   "source": [
    "total = int(input(\"Total de eleitores: \"))\n",
    "v1 = int(input(\"Votos candidato 1: \"))\n",
    "v2 = int(input(\"Votos candidato 2: \"))\n",
    "\n",
    "nulos = total - v1 - v2\n",
    "p1 = (v1 / total) * 100\n",
    "p2 = (v2 / total) * 100\n",
    "pn = (nulos / total) * 100\n",
    "\n",
    "print(f\"Candidato 1: {p1:.2f}%\")\n",
    "print(f\"Candidato 2: {p2:.2f}%\")\n",
    "print(f\"Nulos: {pn:.2f}%\")\n"
   ]
  }
 ],
 "metadata": {
  "kernelspec": {
   "display_name": "PUC",
   "language": "python",
   "name": "python3"
  },
  "language_info": {
   "name": "python",
   "version": "3.13.7"
  }
 },
 "nbformat": 4,
 "nbformat_minor": 5
}
