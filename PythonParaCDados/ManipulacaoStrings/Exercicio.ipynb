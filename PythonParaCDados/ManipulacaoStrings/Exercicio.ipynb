{
 "cells": [
  {
   "cell_type": "markdown",
   "id": "1f76a0ee",
   "metadata": {},
   "source": [
    "### Exercicio 1"
   ]
  },
  {
   "cell_type": "code",
   "execution_count": null,
   "id": "6e313db8",
   "metadata": {},
   "outputs": [],
   "source": [
    "frase = input(\"Digite uma frase: \")\n",
    "\n",
    "print(\"Tamanho:\", len(frase))\n",
    "print(\"Maiúscula:\", frase.upper())\n",
    "print(\"Minúscula:\", frase.lower())\n",
    "\n",
    "print(\"Vertical:\")\n",
    "for ch in frase:\n",
    "    print(ch)\n",
    "\n",
    "ini = int(input(\"Posição inicial (1..N): \"))\n",
    "fim = int(input(\"Posição final (1..N, inclusive): \"))\n",
    "ini_idx = max(ini - 1, 0)\n",
    "fim_idx = min(fim, len(frase))\n",
    "print(\"Fatia:\", frase[ini_idx:fim_idx])\n",
    "\n",
    "print(\"Inversa:\", frase[::-1])\n",
    "\n",
    "p1 = input(\"Palavra a substituir: \")\n",
    "p2 = input(\"Substituir por: \")\n",
    "nova_frase = frase.replace(p1, p2, 1)  # apenas a 1ª ocorrência\n",
    "print(\"Nova frase:\", nova_frase)\n"
   ]
  },
  {
   "cell_type": "markdown",
   "id": "84aa4ec4",
   "metadata": {},
   "source": [
    "### Exercicio 2"
   ]
  },
  {
   "cell_type": "code",
   "execution_count": 2,
   "id": "66a5b6ee",
   "metadata": {},
   "outputs": [
    {
     "name": "stdout",
     "output_type": "stream",
     "text": [
      "Quantidade de ocorrências: 1\n"
     ]
    }
   ],
   "source": [
    "frase = input(\"Frase: \")\n",
    "palavra = input(\"Palavra a contar: \")\n",
    "qtd = frase.casefold().count(palavra.casefold())\n",
    "print(f\"Quantidade de ocorrências: {qtd}\")\n"
   ]
  },
  {
   "cell_type": "markdown",
   "id": "44570bf9",
   "metadata": {},
   "source": [
    "### Exercicio 3"
   ]
  },
  {
   "cell_type": "code",
   "execution_count": 3,
   "id": "52b32f07",
   "metadata": {},
   "outputs": [
    {
     "name": "stdout",
     "output_type": "stream",
     "text": [
      "Parte 1: M\n",
      "Parte 2: theus é d\n",
      "Parte 3: or\n",
      "Parte 4: \n"
     ]
    }
   ],
   "source": [
    "frase = input(\"Frase: \")\n",
    "sep = input(\"Caractere separador: \")\n",
    "partes = frase.split(sep)\n",
    "for i, p in enumerate(partes, 1):\n",
    "    print(f\"Parte {i}: {p}\")\n"
   ]
  },
  {
   "cell_type": "markdown",
   "id": "aa6309d3",
   "metadata": {},
   "source": [
    "### Exercicio 4"
   ]
  },
  {
   "cell_type": "code",
   "execution_count": null,
   "id": "c8b57f01",
   "metadata": {},
   "outputs": [],
   "source": [
    "palavra = input(\"Palavra: \")\n",
    "sep = input(\"Separador: \")\n",
    "print(sep.join(palavra))\n"
   ]
  },
  {
   "cell_type": "markdown",
   "id": "5b2c614f",
   "metadata": {},
   "source": [
    "### Exercicio 5"
   ]
  },
  {
   "cell_type": "code",
   "execution_count": null,
   "id": "79144471",
   "metadata": {},
   "outputs": [],
   "source": [
    "palavra = input(\"Palavra: \")\n",
    "norm = palavra.casefold()\n",
    "print(\"É palíndromo\" if norm == norm[::-1] else \"Não é palíndromo\")\n"
   ]
  }
 ],
 "metadata": {
  "kernelspec": {
   "display_name": "PUC",
   "language": "python",
   "name": "python3"
  },
  "language_info": {
   "codemirror_mode": {
    "name": "ipython",
    "version": 3
   },
   "file_extension": ".py",
   "mimetype": "text/x-python",
   "name": "python",
   "nbconvert_exporter": "python",
   "pygments_lexer": "ipython3",
   "version": "3.13.7"
  }
 },
 "nbformat": 4,
 "nbformat_minor": 5
}
