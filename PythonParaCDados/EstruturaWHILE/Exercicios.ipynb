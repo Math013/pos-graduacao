{
 "cells": [
  {
   "cell_type": "markdown",
   "id": "bda788f4",
   "metadata": {},
   "source": [
    "### Exercício 1"
   ]
  },
  {
   "cell_type": "code",
   "execution_count": null,
   "id": "50b3e3b9",
   "metadata": {},
   "outputs": [],
   "source": [
    "matricula = int(input(\"Informe a matrícula do aluno (para sair informe um número negativo): \"))\n",
    "\n",
    "alunos = {}\n",
    "\n",
    "while matricula >= 0:\n",
    "    nome = input(\"Informe o nome do aluno: \")\n",
    "    nota1 = float(input(\"Informe a primeira nota: \"))\n",
    "    nota2 = float(input(\"Informe a segunda nota: \"))\n",
    "    nota3 = float(input(\"Informe a terceira nota: \"))\n",
    "    media = (nota1 + nota2 + nota3) / 3\n",
    "    \n",
    "    if media >= 7:\n",
    "        avaliacao = 'Aprovado'\n",
    "    elif 6 <= media < 7:\n",
    "        avaliacao = 'Recuperação'\n",
    "    else:\n",
    "        avaliacao = 'Reprovado'\n",
    "    \n",
    "    alunos[matricula] = {\n",
    "        'nome': nome,\n",
    "        'avaliação': avaliacao,\n",
    "        'media': media\n",
    "    }\n",
    "\n",
    "    matricula = int(input(\"Informe a matrícula do aluno (para sair informe um número negativo): \"))\n",
    "\n",
    "alunos"
   ]
  },
  {
   "cell_type": "markdown",
   "id": "19b28b37",
   "metadata": {},
   "source": [
    "### Exercício 2"
   ]
  },
  {
   "cell_type": "code",
   "execution_count": null,
   "id": "bd02701e",
   "metadata": {},
   "outputs": [],
   "source": [
    "total_pessoas = 0\n",
    "soma_idades = 0\n",
    "acima_50 = 0\n",
    "abaixo_40 = 0\n",
    "\n",
    "while True:\n",
    "    entrada = input(\"Idade (negativa para encerrar): \").strip()\n",
    "    if not entrada:\n",
    "        continue\n",
    "    try:\n",
    "        idade = int(entrada)\n",
    "    except ValueError:\n",
    "        print(\"Digite um número inteiro válido.\")\n",
    "        continue\n",
    "\n",
    "    if idade < 0:\n",
    "        break\n",
    "\n",
    "    total_pessoas += 1\n",
    "    soma_idades += idade\n",
    "    if idade > 50:\n",
    "        acima_50 += 1\n",
    "    if idade < 40:\n",
    "        abaixo_40 += 1\n",
    "\n",
    "if total_pessoas == 0:\n",
    "    print(\"Nenhuma idade válida informada.\")\n",
    "else:\n",
    "    media = soma_idades / total_pessoas\n",
    "    percentual_abaixo_40 = (abaixo_40 / total_pessoas) * 100\n",
    "    print(f\"Pessoas com mais de 50 anos: {acima_50}\")\n",
    "    print(f\"Média das idades: {media:.2f}\")\n",
    "    print(f\"Percentual com menos de 40 anos: {percentual_abaixo_40:.2f}%\")\n"
   ]
  }
 ],
 "metadata": {
  "kernelspec": {
   "display_name": "PUC",
   "language": "python",
   "name": "python3"
  },
  "language_info": {
   "codemirror_mode": {
    "name": "ipython",
    "version": 3
   },
   "file_extension": ".py",
   "mimetype": "text/x-python",
   "name": "python",
   "nbconvert_exporter": "python",
   "pygments_lexer": "ipython3",
   "version": "3.13.7"
  }
 },
 "nbformat": 4,
 "nbformat_minor": 5
}
