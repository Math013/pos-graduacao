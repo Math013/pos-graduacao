{
 "cells": [
  {
   "cell_type": "markdown",
   "metadata": {},
   "source": [
    "### Exercício 1"
   ]
  },
  {
   "cell_type": "code",
   "execution_count": null,
   "metadata": {},
   "outputs": [],
   "source": [
    "for i in range(5):\n",
    "    valor = float(input(f\"Digite o {i+1}º valor: \"))\n",
    "    dobro = valor * 2\n",
    "    print(f\"O dobro de {valor} é {dobro}\")"
   ]
  },
  {
   "cell_type": "markdown",
   "metadata": {},
   "source": [
    "### Exercício 2"
   ]
  },
  {
   "cell_type": "code",
   "execution_count": null,
   "metadata": {},
   "outputs": [],
   "source": [
    "numero = int(input(\"Digite um número: \"))\n",
    "print(f\"Números ímpares de 1 até {numero}:\")\n",
    "\n",
    "for i in range(1, numero + 1):\n",
    "    if i % 2 == 1:\n",
    "        print(i, end=\" \")"
   ]
  },
  {
   "cell_type": "markdown",
   "metadata": {},
   "source": [
    "### Exercício 3"
   ]
  },
  {
   "cell_type": "code",
   "execution_count": null,
   "metadata": {},
   "outputs": [],
   "source": [
    "numero = int(input(\"Digite um número para ver sua tabuada: \"))\n",
    "print(f\"Tabuada do {numero}:\")\n",
    "\n",
    "for i in range(1, 11):\n",
    "    resultado = numero * i\n",
    "    print(f\"{numero} X {i} = {resultado}\")"
   ]
  },
  {
   "cell_type": "markdown",
   "metadata": {},
   "source": [
    "### Exercício 4"
   ]
  },
  {
   "cell_type": "code",
   "execution_count": null,
   "metadata": {},
   "outputs": [],
   "source": [
    "num1 = int(input(\"Digite o primeiro número: \"))\n",
    "num2 = int(input(\"Digite o segundo número: \"))\n",
    "\n",
    "menor = min(num1, num2)\n",
    "maior = max(num1, num2)\n",
    "\n",
    "print(f\"Números inteiros entre {menor} e {maior}:\")\n",
    "\n",
    "for i in range(menor, maior + 1):\n",
    "    print(i, end=\" \")\n"
   ]
  },
  {
   "cell_type": "markdown",
   "metadata": {},
   "source": [
    "### Exercício 5"
   ]
  },
  {
   "cell_type": "code",
   "execution_count": null,
   "metadata": {},
   "outputs": [],
   "source": [
    "numero = int(input(\"Digite um número: \"))\n",
    "soma = 0\n",
    "\n",
    "for i in range(1, numero + 1):\n",
    "    soma += i\n",
    "\n",
    "print(f\"A soma dos números de 1 até {numero} é: {soma}\")"
   ]
  },
  {
   "cell_type": "markdown",
   "metadata": {},
   "source": [
    "### Exercício 6"
   ]
  },
  {
   "cell_type": "code",
   "execution_count": null,
   "metadata": {},
   "outputs": [
    {
     "name": "stdout",
     "output_type": "stream",
     "text": [
      "O fatorial de 5 é: 120\n",
      "Fim do exercício 6\n",
      "\n"
     ]
    }
   ],
   "source": [
    "numero = int(input(\"Digite um número para calcular seu fatorial: \"))\n",
    "\n",
    "if numero < 0:\n",
    "    print(\"Não é possível calcular fatorial de número negativo!\")\n",
    "else:\n",
    "    fatorial = 1\n",
    "    \n",
    "    for i in range(1, numero + 1):\n",
    "        fatorial *= i\n",
    "    \n",
    "    print(f\"O fatorial de {numero} é: {fatorial}\")"
   ]
  },
  {
   "cell_type": "markdown",
   "metadata": {},
   "source": [
    "### Exercício 7"
   ]
  },
  {
   "cell_type": "code",
   "execution_count": null,
   "metadata": {},
   "outputs": [],
   "source": [
    "soma_pesos = 0\n",
    "quantidade_pessoas = 10\n",
    "\n",
    "for i in range(quantidade_pessoas):\n",
    "    peso = float(input(f\"Digite o peso da {i+1}ª pessoa (em kg): \"))\n",
    "    soma_pesos += peso\n",
    "\n",
    "media_pesos = soma_pesos / quantidade_pessoas\n",
    "\n",
    "print(f\"A média dos pesos das {quantidade_pessoas} pessoas é: {media_pesos:.2f} kg\")"
   ]
  },
  {
   "cell_type": "markdown",
   "metadata": {},
   "source": [
    "### Exercício 8"
   ]
  },
  {
   "cell_type": "code",
   "execution_count": null,
   "metadata": {},
   "outputs": [],
   "source": [
    "homens_60_80 = 0\n",
    "mulheres_50_70 = 0\n",
    "\n",
    "for i in range(10):\n",
    "    print(f\"\\nPessoa {i+1}:\")\n",
    "    sexo = input(\"Digite o sexo (M/F): \").upper()\n",
    "    peso = float(input(\"Digite o peso (em kg): \"))\n",
    "    \n",
    "    if sexo == 'M' and 60 <= peso <= 80:\n",
    "        homens_60_80 += 1\n",
    "    elif sexo == 'F' and 50 <= peso <= 70:\n",
    "        mulheres_50_70 += 1\n",
    "\n",
    "print(f\"\\nResultados:\")\n",
    "print(f\"Homens com peso entre 60 e 80 kg: {homens_60_80}\")\n",
    "print(f\"Mulheres com peso entre 50 e 70 kg: {mulheres_50_70}\")"
   ]
  },
  {
   "cell_type": "markdown",
   "metadata": {},
   "source": [
    "### Exercício 9"
   ]
  },
  {
   "cell_type": "code",
   "execution_count": null,
   "metadata": {},
   "outputs": [],
   "source": [
    "pessoas_acima_90kg = 0\n",
    "soma_idades = 0\n",
    "quantidade_pessoas = 7\n",
    "\n",
    "for i in range(quantidade_pessoas):\n",
    "    print(f\"\\nPessoa {i+1}:\")\n",
    "    idade = int(input(\"Digite a idade: \"))\n",
    "    peso = float(input(\"Digite o peso (em kg): \"))\n",
    "    \n",
    "    soma_idades += idade\n",
    "    \n",
    "    if peso > 90:\n",
    "        pessoas_acima_90kg += 1\n",
    "\n",
    "media_idades = soma_idades / quantidade_pessoas\n",
    "\n",
    "print(f\"\\nResultados:\")\n",
    "print(f\"Quantidade de pessoas com mais de 90 kg: {pessoas_acima_90kg}\")\n",
    "print(f\"Média das idades das {quantidade_pessoas} pessoas: {media_idades:.2f} anos\")"
   ]
  },
  {
   "cell_type": "markdown",
   "metadata": {},
   "source": [
    "### Exercício 10"
   ]
  },
  {
   "cell_type": "code",
   "execution_count": null,
   "metadata": {},
   "outputs": [],
   "source": [
    "numero = int(input(\"Digite um número: \"))\n",
    "\n",
    "if numero <= 1:\n",
    "    print(f\"{numero} não é um número primo.\")\n",
    "elif numero == 2:\n",
    "    print(f\"{numero} é um número primo.\")\n",
    "else:\n",
    "    eh_primo = True\n",
    "    \n",
    "    # Verifica se o número tem divisores além de 1 e ele mesmo\n",
    "    for i in range(2, int(numero ** 0.5) + 1):\n",
    "        if numero % i == 0:\n",
    "            eh_primo = False\n",
    "            break\n",
    "    \n",
    "    if eh_primo:\n",
    "        print(f\"{numero} é um número primo.\")\n",
    "    else:\n",
    "        print(f\"{numero} não é um número primo.\")"
   ]
  }
 ],
 "metadata": {
  "kernelspec": {
   "display_name": "PUC",
   "language": "python",
   "name": "python3"
  },
  "language_info": {
   "codemirror_mode": {
    "name": "ipython",
    "version": 3
   },
   "file_extension": ".py",
   "mimetype": "text/x-python",
   "name": "python",
   "nbconvert_exporter": "python",
   "pygments_lexer": "ipython3",
   "version": "3.13.7"
  }
 },
 "nbformat": 4,
 "nbformat_minor": 4
}
