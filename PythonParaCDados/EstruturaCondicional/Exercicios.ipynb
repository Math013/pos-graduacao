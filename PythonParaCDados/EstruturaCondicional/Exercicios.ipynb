{
 "cells": [
  {
   "cell_type": "markdown",
   "id": "fc69123c",
   "metadata": {},
   "source": [
    "### Exercício 1:"
   ]
  },
  {
   "cell_type": "code",
   "execution_count": 1,
   "id": "4c6306a2",
   "metadata": {},
   "outputs": [
    {
     "name": "stdout",
     "output_type": "stream",
     "text": [
      "O número 5 é maior que o número 4\n"
     ]
    }
   ],
   "source": [
    "n1 = int(input(\"Insira o primeiro número: \"))\n",
    "n2 = int(input(\"Insira o primeiro número: \"))\n",
    "\n",
    "if n1 > n2:\n",
    "    print(f\"O número {n1} é maior que o número {n2}\")\n",
    "elif n2 > n1:\n",
    "    print(f\"O número {n2} é maior que o número {n1}\")\n",
    "else:\n",
    "    print(\"Os números são iguais\")"
   ]
  },
  {
   "cell_type": "markdown",
   "id": "b87dfac1",
   "metadata": {},
   "source": [
    "### Exercício 2"
   ]
  },
  {
   "cell_type": "code",
   "execution_count": 2,
   "id": "1968dcd8",
   "metadata": {},
   "outputs": [
    {
     "name": "stdout",
     "output_type": "stream",
     "text": [
      "Aluno aprovado com média 7.45\n"
     ]
    }
   ],
   "source": [
    "nota1 = float(input(\"Insira a primeira nota: \"))\n",
    "nota2 = float(input(\"Insira a segunda nota: \"))\n",
    "media = (nota1 + nota2) / 2\n",
    "\n",
    "if media >= 7:\n",
    "    print(f\"Aluno aprovado com média {media}\")\n",
    "    \n",
    "else:\n",
    "    print(f\"Aluno reprovado com média {media}\")"
   ]
  },
  {
   "cell_type": "markdown",
   "id": "d5b857b0",
   "metadata": {},
   "source": [
    "### Exercício 3"
   ]
  },
  {
   "cell_type": "code",
   "execution_count": 4,
   "id": "1238375d",
   "metadata": {},
   "outputs": [
    {
     "name": "stdout",
     "output_type": "stream",
     "text": [
      "Aluno aprovado com média 7.00\n"
     ]
    }
   ],
   "source": [
    "nota1 = float(input(\"Insira a primeira nota: \"))\n",
    "nota2 = float(input(\"Insira a segunda nota: \"))\n",
    "nota3 = float(input(\"Insira a terceira nota: \"))\n",
    "\n",
    "media = (nota1 + nota2 + nota3) / 3\n",
    "\n",
    "if media >= 7 and media <= 10:\n",
    "    print(f\"Aluno aprovado com média {media:.2f}\")\n",
    "elif media >= 3 and media < 7:\n",
    "    print(f\"Aluno em recuperação com média {media:.2f}\")\n",
    "elif media >= 0 and media < 3:\n",
    "    print(f\"Aluno reprovado com média {media:.2f}\")\n",
    "else:\n",
    "    print(\"Média inválida\")"
   ]
  },
  {
   "cell_type": "markdown",
   "id": "3c7bff11",
   "metadata": {},
   "source": [
    "### Exercício 4"
   ]
  },
  {
   "cell_type": "code",
   "execution_count": 5,
   "id": "fa3257b1",
   "metadata": {},
   "outputs": [
    {
     "name": "stdout",
     "output_type": "stream",
     "text": [
      "Os segmentos podem formar um triângulo\n"
     ]
    }
   ],
   "source": [
    "x = int(input(\"Comprimento 1: \"))\n",
    "y = int(input(\"Comprimento 2: \"))\n",
    "z = int(input(\"Comprimento 3: \"))\n",
    "\n",
    "if x < y + z and y < x + z and z < x + y:\n",
    "    print(\"Os segmentos podem formar um triângulo\")\n",
    "else:\n",
    "    print(\"Os segmentos não podem formar um triângulo\")\n"
   ]
  },
  {
   "cell_type": "markdown",
   "id": "c4038f69",
   "metadata": {},
   "source": [
    "### Exercício 5"
   ]
  },
  {
   "cell_type": "code",
   "execution_count": 6,
   "id": "6f5dff1f",
   "metadata": {},
   "outputs": [
    {
     "name": "stdout",
     "output_type": "stream",
     "text": [
      "O peso ideal para um homem com 1.77m é 70.68kg\n"
     ]
    }
   ],
   "source": [
    "altura = float(input(\"Insira a altura da pessoa (m): \"))\n",
    "sexo = int(input(\"Insira o sexo da pessoa (1 - Masculino / 2 - Feminino): \"))\n",
    "\n",
    "if sexo == 1:\n",
    "    peso_ideal = (72.7 * altura) - 58\n",
    "    print(f\"O peso ideal para um homem com {altura}m é {peso_ideal:.2f}kg\")\n",
    "elif sexo == 2:\n",
    "    peso_ideal = (62.1 * altura) - 44.7\n",
    "    print(f\"O peso ideal para uma mulher com {altura}m é {peso_ideal:.2f}kg\")"
   ]
  },
  {
   "cell_type": "markdown",
   "id": "8032aa2e",
   "metadata": {},
   "source": [
    "### Exercício 6"
   ]
  },
  {
   "cell_type": "code",
   "execution_count": 13,
   "id": "ab35b99e",
   "metadata": {},
   "outputs": [
    {
     "name": "stdout",
     "output_type": "stream",
     "text": [
      "IMC: 25.41 | Situação: Sobrepeso\n"
     ]
    }
   ],
   "source": [
    "peso = float(input(\"Peso (kg): \").replace(\",\", \".\"))\n",
    "altura = float(input(\"Altura (m): \").replace(\",\", \".\"))\n",
    "\n",
    "imc = peso / (altura ** 2)\n",
    "\n",
    "if imc < 20:\n",
    "    situacao = \"Abaixo do peso\"\n",
    "elif imc < 25:\n",
    "    situacao = \"Peso normal\"\n",
    "elif imc < 30:\n",
    "    situacao = \"Sobrepeso\"\n",
    "elif imc < 40:\n",
    "    situacao = \"Obeso\"\n",
    "else:\n",
    "    situacao = \"Obeso mórbido\"\n",
    "\n",
    "print(f\"IMC: {imc:.2f} | Situação: {situacao}\")\n"
   ]
  },
  {
   "cell_type": "markdown",
   "id": "ca5931dd",
   "metadata": {},
   "source": [
    "### Exercício 7"
   ]
  },
  {
   "cell_type": "code",
   "execution_count": 9,
   "id": "1922ba0d",
   "metadata": {},
   "outputs": [
    {
     "name": "stdout",
     "output_type": "stream",
     "text": [
      "O salário do funcionário permanece R$1000.00\n"
     ]
    }
   ],
   "source": [
    "salario = float(input(\"Insira o salário atual do funcionário: \"))\n",
    "\n",
    "if salario < 1000:\n",
    "    novo_salario = salario * 1.3\n",
    "    print(f\"O novo salário do funcionário é R${novo_salario:.2f}\")\n",
    "else:\n",
    "    print(f\"O salário do funcionário permanece R${salario:.2f}\")"
   ]
  },
  {
   "cell_type": "markdown",
   "id": "edcad19f",
   "metadata": {},
   "source": [
    "### Exercício 8"
   ]
  },
  {
   "cell_type": "code",
   "execution_count": 12,
   "id": "7c5366f1",
   "metadata": {},
   "outputs": [
    {
     "name": "stdout",
     "output_type": "stream",
     "text": [
      "Categoria Sênior\n"
     ]
    }
   ],
   "source": [
    "idade = int(input(\"Insira a idade do nadador: \"))\n",
    "\n",
    "if idade <= 7:\n",
    "    print(\"Categoria Infantil\")\n",
    "elif idade >= 8 and idade <= 10:\n",
    "    print(\"Categoria Juvenil\")\n",
    "elif idade >= 11 and idade <= 15:\n",
    "    print(\"Categoria Adoslecente\")\n",
    "elif idade >= 16 and idade <= 30:\n",
    "    print(\"Categoria Adulto\")\n",
    "elif idade > 30:\n",
    "    print(\"Categoria Sênior\")\n",
    "elif idade < 0:\n",
    "    print(\"Idade inválida\")"
   ]
  },
  {
   "cell_type": "markdown",
   "id": "2b0b1d1e",
   "metadata": {},
   "source": [
    "### Exercício 9"
   ]
  },
  {
   "cell_type": "code",
   "execution_count": 14,
   "id": "e40e3b83",
   "metadata": {},
   "outputs": [
    {
     "name": "stdout",
     "output_type": "stream",
     "text": [
      "Classe eleitoral: eleitor obrigatório\n"
     ]
    }
   ],
   "source": [
    "idade = int(input(\"Idade: \"))\n",
    "\n",
    "if idade < 16:\n",
    "    classe = \"não eleitor\"\n",
    "elif 18 <= idade < 65:\n",
    "    classe = \"eleitor obrigatório\"\n",
    "else:  # 16–17 ou 65+\n",
    "    classe = \"eleitor facultativo\"\n",
    "\n",
    "print(f\"Classe eleitoral: {classe}\")\n"
   ]
  },
  {
   "cell_type": "markdown",
   "id": "3a1224eb",
   "metadata": {},
   "source": [
    "### Exercício 10"
   ]
  },
  {
   "cell_type": "code",
   "execution_count": 15,
   "id": "1e217922",
   "metadata": {},
   "outputs": [
    {
     "name": "stdout",
     "output_type": "stream",
     "text": [
      "Quarta-feira\n"
     ]
    }
   ],
   "source": [
    "n = int(input(\"Número do dia (1 a 7): \"))\n",
    "\n",
    "dias = {\n",
    "    1: \"Domingo\",\n",
    "    2: \"Segunda-feira\",\n",
    "    3: \"Terça-feira\",\n",
    "    4: \"Quarta-feira\",\n",
    "    5: \"Quinta-feira\",\n",
    "    6: \"Sexta-feira\",\n",
    "    7: \"Sábado\",\n",
    "}\n",
    "\n",
    "print(dias.get(n, \"Não existe dia da semana com esse número.\"))\n"
   ]
  },
  {
   "cell_type": "markdown",
   "id": "55a51398",
   "metadata": {},
   "source": [
    "### Exercício 11"
   ]
  },
  {
   "cell_type": "code",
   "execution_count": 16,
   "id": "8bf167c1",
   "metadata": {},
   "outputs": [
    {
     "name": "stdout",
     "output_type": "stream",
     "text": [
      "Setembro\n"
     ]
    }
   ],
   "source": [
    "n = int(input(\"Número do mês (1 a 12): \"))\n",
    "\n",
    "meses = {\n",
    "    1: \"Janeiro\",   2: \"Fevereiro\", 3: \"Março\",     4: \"Abril\",\n",
    "    5: \"Maio\",      6: \"Junho\",     7: \"Julho\",     8: \"Agosto\",\n",
    "    9: \"Setembro\", 10: \"Outubro\",  11: \"Novembro\", 12: \"Dezembro\",\n",
    "}\n",
    "\n",
    "print(meses.get(n, \"Não existe mês com esse número.\"))\n"
   ]
  }
 ],
 "metadata": {
  "kernelspec": {
   "display_name": "PUC",
   "language": "python",
   "name": "python3"
  },
  "language_info": {
   "codemirror_mode": {
    "name": "ipython",
    "version": 3
   },
   "file_extension": ".py",
   "mimetype": "text/x-python",
   "name": "python",
   "nbconvert_exporter": "python",
   "pygments_lexer": "ipython3",
   "version": "3.13.7"
  }
 },
 "nbformat": 4,
 "nbformat_minor": 5
}
