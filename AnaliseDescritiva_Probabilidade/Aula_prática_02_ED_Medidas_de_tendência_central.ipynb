{
  "cells": [
    {
      "cell_type": "markdown",
      "metadata": {
        "colab_type": "text",
        "id": "view-in-github"
      },
      "source": [
        "<a href=\"https://colab.research.google.com/github/ferpatugo/Estatistica-Python/blob/main/Aula_pr%C3%A1tica_02_Medidas_de_tend%C3%AAncia_central.ipynb\" target=\"_parent\"><img src=\"https://colab.research.google.com/assets/colab-badge.svg\" alt=\"Open In Colab\"/></a>"
      ]
    },
    {
      "cell_type": "markdown",
      "id": "tFaEV_AOjIFK",
      "metadata": {
        "id": "tFaEV_AOjIFK"
      },
      "source": [
        "# Importanto biblibotecas"
      ]
    },
    {
      "cell_type": "code",
      "execution_count": 61,
      "id": "4JF0JAGCjEK3",
      "metadata": {
        "id": "4JF0JAGCjEK3"
      },
      "outputs": [],
      "source": [
        "import numpy as np\n",
        "import pandas as pd\n",
        "from scipy.stats import skew, kurtosis, mode, norm\n",
        "import matplotlib.pyplot as plt\n"
      ]
    },
    {
      "cell_type": "markdown",
      "id": "8x3pIAMyjbiZ",
      "metadata": {
        "id": "8x3pIAMyjbiZ"
      },
      "source": [
        "# Carregando o dado das empresas"
      ]
    },
    {
      "cell_type": "code",
      "execution_count": 5,
      "id": "K3y6E6g6jEK4",
      "metadata": {
        "id": "K3y6E6g6jEK4"
      },
      "outputs": [],
      "source": [
        "a = np.array([2000, 3000, 4000, 9000])\n",
        "b = np.array([2000, 3000, 3000, 3000, 3000, 3000, 4000, 7000, 9000])\n",
        "c = np.array([2000, 3000, 4000, 6000, 7000, 7000, 8000, 9000])"
      ]
    },
    {
      "cell_type": "markdown",
      "id": "GLrxeOILkAUv",
      "metadata": {
        "id": "GLrxeOILkAUv"
      },
      "source": [
        "# Criando função para calcular a Moda"
      ]
    },
    {
      "cell_type": "code",
      "execution_count": 6,
      "id": "yO5LB39rjEK4",
      "metadata": {
        "id": "yO5LB39rjEK4"
      },
      "outputs": [],
      "source": [
        "def calculate_mode(array):\n",
        "    modes = mode(array)\n",
        "    # Verifica se count é array ou escalar para evitar erro de indexação\n",
        "    count = modes.count if np.isscalar(modes.count) else modes.count[0]\n",
        "    if count > 1:\n",
        "        return modes.mode if np.isscalar(modes.mode) else modes.mode[0]\n",
        "    else:\n",
        "        counts = np.bincount(array)\n",
        "        if max(counts) == 1:\n",
        "            return None\n",
        "        else:\n",
        "            return modes.mode if np.isscalar(modes.mode) else modes.mode[0]\n",
        "\n"
      ]
    },
    {
      "cell_type": "markdown",
      "id": "6g4rroUrkGes",
      "metadata": {
        "id": "6g4rroUrkGes"
      },
      "source": [
        "# Criando função para calcular as métricas estatísticas"
      ]
    },
    {
      "cell_type": "code",
      "execution_count": 7,
      "id": "-3-Vn6WbjEK4",
      "metadata": {
        "id": "-3-Vn6WbjEK4"
      },
      "outputs": [],
      "source": [
        "def summary_stats(array):\n",
        "    return {\n",
        "        'min': np.min(array),\n",
        "        '1st_quartile': np.percentile(array, 25),\n",
        "        'median': np.median(array),\n",
        "        'mean': np.mean(array),\n",
        "        '3rd_quartile': np.percentile(array, 75),\n",
        "        'max': np.max(array)\n",
        "    }"
      ]
    },
    {
      "cell_type": "code",
      "execution_count": 8,
      "id": "AQY_tG6_jEK4",
      "metadata": {
        "id": "AQY_tG6_jEK4"
      },
      "outputs": [],
      "source": [
        "def describe_sample(name, array):\n",
        "    result = {\n",
        "        'sample': name,\n",
        "        'mode': calculate_mode(array),\n",
        "        'median': np.median(array),\n",
        "        'mean': np.mean(array),\n",
        "        'skewness': skew(array),\n",
        "        'kurtosis': kurtosis(array, fisher=True),  # Curtose excessiva\n",
        "        **summary_stats(array)\n",
        "    }\n",
        "    return result\n"
      ]
    },
    {
      "cell_type": "code",
      "execution_count": 9,
      "id": "eNIgiRNcjEK4",
      "metadata": {
        "colab": {
          "base_uri": "https://localhost:8080/"
        },
        "id": "eNIgiRNcjEK4",
        "outputId": "8ccd3261-7238-478d-9048-6a00a8a8460c"
      },
      "outputs": [],
      "source": [
        "stats_a = describe_sample('Empresa A', a)\n",
        "stats_b = describe_sample('Empresa B', b)\n",
        "stats_c = describe_sample('Empresa C', c)\n"
      ]
    },
    {
      "cell_type": "code",
      "execution_count": 10,
      "id": "ba04e36b",
      "metadata": {},
      "outputs": [
        {
          "data": {
            "text/plain": [
              "{'sample': 'Empresa A',\n",
              " 'mode': None,\n",
              " 'median': np.float64(3500.0),\n",
              " 'mean': np.float64(4500.0),\n",
              " 'skewness': np.float64(0.9220734033619128),\n",
              " 'kurtosis': np.float64(-0.839476813317479),\n",
              " 'min': np.int64(2000),\n",
              " '1st_quartile': np.float64(2750.0),\n",
              " '3rd_quartile': np.float64(5250.0),\n",
              " 'max': np.int64(9000)}"
            ]
          },
          "execution_count": 10,
          "metadata": {},
          "output_type": "execute_result"
        }
      ],
      "source": [
        "stats_a"
      ]
    },
    {
      "cell_type": "code",
      "execution_count": 11,
      "id": "dddd4c29",
      "metadata": {},
      "outputs": [
        {
          "data": {
            "text/plain": [
              "{'sample': 'Empresa B',\n",
              " 'mode': np.int64(3000),\n",
              " 'median': np.float64(3000.0),\n",
              " 'mean': np.float64(4111.111111111111),\n",
              " 'skewness': np.float64(1.3318043122924363),\n",
              " 'kurtosis': np.float64(0.2703294048162359),\n",
              " 'min': np.int64(2000),\n",
              " '1st_quartile': np.float64(3000.0),\n",
              " '3rd_quartile': np.float64(4000.0),\n",
              " 'max': np.int64(9000)}"
            ]
          },
          "execution_count": 11,
          "metadata": {},
          "output_type": "execute_result"
        }
      ],
      "source": [
        "stats_b"
      ]
    },
    {
      "cell_type": "code",
      "execution_count": 12,
      "id": "8650ab5e",
      "metadata": {},
      "outputs": [
        {
          "data": {
            "text/plain": [
              "{'sample': 'Empresa C',\n",
              " 'mode': np.int64(7000),\n",
              " 'median': np.float64(6500.0),\n",
              " 'mean': np.float64(5750.0),\n",
              " 'skewness': np.float64(-0.2883613024736138),\n",
              " 'kurtosis': np.float64(-1.281807372175981),\n",
              " 'min': np.int64(2000),\n",
              " '1st_quartile': np.float64(3750.0),\n",
              " '3rd_quartile': np.float64(7250.0),\n",
              " 'max': np.int64(9000)}"
            ]
          },
          "execution_count": 12,
          "metadata": {},
          "output_type": "execute_result"
        }
      ],
      "source": [
        "stats_c"
      ]
    },
    {
      "cell_type": "code",
      "execution_count": 13,
      "id": "RQFkLxzfjEK5",
      "metadata": {
        "colab": {
          "base_uri": "https://localhost:8080/",
          "height": 143
        },
        "id": "RQFkLxzfjEK5",
        "outputId": "6da95aea-1f6f-4b8a-a207-7f4e76d4d6ad"
      },
      "outputs": [
        {
          "data": {
            "text/html": [
              "<div>\n",
              "<style scoped>\n",
              "    .dataframe tbody tr th:only-of-type {\n",
              "        vertical-align: middle;\n",
              "    }\n",
              "\n",
              "    .dataframe tbody tr th {\n",
              "        vertical-align: top;\n",
              "    }\n",
              "\n",
              "    .dataframe thead th {\n",
              "        text-align: right;\n",
              "    }\n",
              "</style>\n",
              "<table border=\"1\" class=\"dataframe\">\n",
              "  <thead>\n",
              "    <tr style=\"text-align: right;\">\n",
              "      <th></th>\n",
              "      <th>sample</th>\n",
              "      <th>mode</th>\n",
              "      <th>median</th>\n",
              "      <th>mean</th>\n",
              "      <th>skewness</th>\n",
              "      <th>kurtosis</th>\n",
              "      <th>min</th>\n",
              "      <th>1st_quartile</th>\n",
              "      <th>3rd_quartile</th>\n",
              "      <th>max</th>\n",
              "    </tr>\n",
              "  </thead>\n",
              "  <tbody>\n",
              "    <tr>\n",
              "      <th>0</th>\n",
              "      <td>Empresa A</td>\n",
              "      <td>NaN</td>\n",
              "      <td>3500.0</td>\n",
              "      <td>4500.000000</td>\n",
              "      <td>0.922073</td>\n",
              "      <td>-0.839477</td>\n",
              "      <td>2000</td>\n",
              "      <td>2750.0</td>\n",
              "      <td>5250.0</td>\n",
              "      <td>9000</td>\n",
              "    </tr>\n",
              "    <tr>\n",
              "      <th>1</th>\n",
              "      <td>Empresa B</td>\n",
              "      <td>3000.0</td>\n",
              "      <td>3000.0</td>\n",
              "      <td>4111.111111</td>\n",
              "      <td>1.331804</td>\n",
              "      <td>0.270329</td>\n",
              "      <td>2000</td>\n",
              "      <td>3000.0</td>\n",
              "      <td>4000.0</td>\n",
              "      <td>9000</td>\n",
              "    </tr>\n",
              "    <tr>\n",
              "      <th>2</th>\n",
              "      <td>Empresa C</td>\n",
              "      <td>7000.0</td>\n",
              "      <td>6500.0</td>\n",
              "      <td>5750.000000</td>\n",
              "      <td>-0.288361</td>\n",
              "      <td>-1.281807</td>\n",
              "      <td>2000</td>\n",
              "      <td>3750.0</td>\n",
              "      <td>7250.0</td>\n",
              "      <td>9000</td>\n",
              "    </tr>\n",
              "  </tbody>\n",
              "</table>\n",
              "</div>"
            ],
            "text/plain": [
              "      sample    mode  median         mean  skewness  kurtosis   min  \\\n",
              "0  Empresa A     NaN  3500.0  4500.000000  0.922073 -0.839477  2000   \n",
              "1  Empresa B  3000.0  3000.0  4111.111111  1.331804  0.270329  2000   \n",
              "2  Empresa C  7000.0  6500.0  5750.000000 -0.288361 -1.281807  2000   \n",
              "\n",
              "   1st_quartile  3rd_quartile   max  \n",
              "0        2750.0        5250.0  9000  \n",
              "1        3000.0        4000.0  9000  \n",
              "2        3750.0        7250.0  9000  "
            ]
          },
          "execution_count": 13,
          "metadata": {},
          "output_type": "execute_result"
        }
      ],
      "source": [
        "df_stats = pd.DataFrame([stats_a, stats_b, stats_c])\n",
        "df_stats"
      ]
    },
    {
      "cell_type": "markdown",
      "id": "tBBXNrEfmYVJ",
      "metadata": {
        "id": "tBBXNrEfmYVJ"
      },
      "source": [
        "# Histograma Empresa A\n"
      ]
    },
    {
      "cell_type": "code",
      "execution_count": 14,
      "id": "j4ErcK_AmQcl",
      "metadata": {
        "colab": {
          "base_uri": "https://localhost:8080/",
          "height": 410
        },
        "id": "j4ErcK_AmQcl",
        "outputId": "450321e6-031e-4396-b7eb-fe50a0d61130"
      },
      "outputs": [
        {
          "data": {
            "image/png": "[encoded data removed]",
            "text/plain": [
              "<Figure size 600x400 with 1 Axes>"
            ]
          },
          "metadata": {},
          "output_type": "display_data"
        }
      ],
      "source": [
        "plt.figure(figsize=(6,4))\n",
        "plt.hist(a, bins=10, color='skyblue', edgecolor='black')\n",
        "plt.title('Histograma - Empresa A')\n",
        "plt.xlabel('Valor')\n",
        "plt.ylabel('Frequência')\n",
        "plt.grid(True)\n",
        "plt.show()\n"
      ]
    },
    {
      "cell_type": "markdown",
      "id": "SitVfnMomhp1",
      "metadata": {
        "id": "SitVfnMomhp1"
      },
      "source": [
        "# Histograma Empresa B\n"
      ]
    },
    {
      "cell_type": "code",
      "execution_count": 15,
      "id": "VIeItKTgmc76",
      "metadata": {
        "colab": {
          "base_uri": "https://localhost:8080/",
          "height": 410
        },
        "id": "VIeItKTgmc76",
        "outputId": "ab80a1ff-4816-4dbe-df1c-0d9cca5e62f4"
      },
      "outputs": [
        {
          "data": {
            "image/png": "[encoded data removed]",
            "text/plain": [
              "<Figure size 600x400 with 1 Axes>"
            ]
          },
          "metadata": {},
          "output_type": "display_data"
        }
      ],
      "source": [
        "plt.figure(figsize=(6,4))\n",
        "plt.hist(b, bins=10, color='salmon', edgecolor='black')\n",
        "plt.title('Histograma - Empresa B')\n",
        "plt.xlabel('Valor')\n",
        "plt.ylabel('Frequência')\n",
        "plt.grid(True)\n",
        "plt.show()\n"
      ]
    },
    {
      "cell_type": "markdown",
      "id": "Ix3LPCIZmokP",
      "metadata": {
        "id": "Ix3LPCIZmokP"
      },
      "source": [
        "# Histograma Empresa C"
      ]
    },
    {
      "cell_type": "code",
      "execution_count": 16,
      "id": "ruyjh8klmZws",
      "metadata": {
        "colab": {
          "base_uri": "https://localhost:8080/",
          "height": 410
        },
        "id": "ruyjh8klmZws",
        "outputId": "d02214a9-13c0-46ca-f9ea-7ab7268a3577"
      },
      "outputs": [
        {
          "data": {
            "image/png": "[encoded data removed]",
            "text/plain": [
              "<Figure size 600x400 with 1 Axes>"
            ]
          },
          "metadata": {},
          "output_type": "display_data"
        }
      ],
      "source": [
        "plt.figure(figsize=(6,4))\n",
        "plt.hist(c, bins=10, color='lightgreen', edgecolor='black')\n",
        "plt.title('Histograma - Empresa C')\n",
        "plt.xlabel('Valor')\n",
        "plt.ylabel('Frequência')\n",
        "plt.grid(True)\n",
        "plt.show()\n"
      ]
    },
    {
      "cell_type": "code",
      "execution_count": null,
      "id": "7d91fb42",
      "metadata": {},
      "outputs": [],
      "source": [
        "import random\n",
        "\n",
        "# Gerar mais dados para melhor visualização\n",
        "valores_grandes = [random.randint(1, 6) for _ in range(1000000000)]\n",
        "\n",
        "plt.figure(figsize=(10, 6))\n",
        "\n",
        "media_g = np.mean(valores_grandes)\n",
        "desvio_g = np.std(valores_grandes)\n",
        "x_g = np.linspace(0.5, 6.5, 300)\n",
        "y_g = norm.pdf(x_g, media_g, desvio_g)\n",
        "\n",
        "plt.hist(valores_grandes, bins=range(1, 8), density=True,\n",
        "        color='lightgreen', edgecolor='darkgreen', alpha=0.7, align='left')\n",
        "plt.plot(x_g, y_g, 'purple', linewidth=3)\n",
        "\n",
        "plt.title(f'Distribuição de 1000 Lançamentos - Aproximação à Normal - média = {media_g}', fontsize=14)\n",
        "plt.xlabel('Valor do Dado')\n",
        "plt.ylabel('Densidade')\n",
        "plt.xticks(range(1, 7))\n",
        "plt.grid(True, alpha=0.2)\n",
        "plt.show()"
      ]
    },
    {
      "cell_type": "code",
      "execution_count": 82,
      "id": "e241a8a1",
      "metadata": {},
      "outputs": [
        {
          "data": {
            "text/plain": [
              "np.float64(3.484)"
            ]
          },
          "execution_count": 82,
          "metadata": {},
          "output_type": "execute_result"
        }
      ],
      "source": [
        "media_g"
      ]
    }
  ],
  "metadata": {
    "colab": {
      "include_colab_link": true,
      "provenance": []
    },
    "kernelspec": {
      "display_name": "Python (PUC)",
      "language": "python",
      "name": "puc"
    },
    "language_info": {
      "codemirror_mode": {
        "name": "ipython",
        "version": 3
      },
      "file_extension": ".py",
      "mimetype": "text/x-python",
      "name": "python",
      "nbconvert_exporter": "python",
      "pygments_lexer": "ipython3",
      "version": "3.12.10"
    }
  },
  "nbformat": 4,
  "nbformat_minor": 5
}
