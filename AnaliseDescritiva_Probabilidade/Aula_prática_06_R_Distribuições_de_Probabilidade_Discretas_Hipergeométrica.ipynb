{
  "cells": [
    {
      "cell_type": "markdown",
      "metadata": {
        "colab_type": "text",
        "id": "view-in-github"
      },
      "source": [
        "<a href=\"https://colab.research.google.com/github/ferpatugo/Estatistica-Python/blob/main/Aula_pr%C3%A1tica_06_R_Distribui%C3%A7%C3%B5es_de_Probabilidade_Discretas_Hipergeom%C3%A9trica.ipynb\" target=\"_parent\"><img src=\"https://colab.research.google.com/assets/colab-badge.svg\" alt=\"Open In Colab\"/></a>"
      ]
    },
    {
      "cell_type": "code",
      "execution_count": 1,
      "id": "wNzYyCxMNFoq",
      "metadata": {
        "id": "wNzYyCxMNFoq"
      },
      "outputs": [],
      "source": [
        "# Aula prática 06 - Python - Distribuições de Probabilidade Discretas - Hipergeométrica\n",
        "import math\n",
        "from math import factorial\n",
        "from scipy.stats import hypergeom"
      ]
    },
    {
      "cell_type": "markdown",
      "id": "-IIVZOGXNI_B",
      "metadata": {
        "id": "-IIVZOGXNI_B"
      },
      "source": [
        "### Em uma eleição, suponha que 300 dos 1000 habitantes de um município são eleitores de um candidato A. Toma-se uma amostra de 10 eleitores.Qual a probabilidade de que exatamente 5 deles pretendam votar no candidato A?\n"
      ]
    },
    {
      "cell_type": "code",
      "execution_count": 2,
      "id": "tiW0KhLENDPr",
      "metadata": {
        "id": "tiW0KhLENDPr"
      },
      "outputs": [],
      "source": [
        "# Dados do problema\n",
        "M = 1000   # Total de habitantes (população)\n",
        "n = 300    # Número de habitantes que são eleitores do candidato A (sucessos na população)\n",
        "N = 10     # Tamanho da amostra\n",
        "k = 5      # Número de sucessos desejado na amostra"
      ]
    },
    {
      "cell_type": "markdown",
      "id": "wcDWWJ4UNYf_",
      "metadata": {
        "id": "wcDWWJ4UNYf_"
      },
      "source": [
        "# Usando CDF para verificar: P(X=k) = P(X<=k) - P(X<=k-1)"
      ]
    },
    {
      "cell_type": "code",
      "execution_count": 3,
      "id": "wUud1PMcNW_u",
      "metadata": {
        "id": "wUud1PMcNW_u"
      },
      "outputs": [
        {
          "name": "stdout",
          "output_type": "stream",
          "text": [
            "P(X=5) usando hypergeom.cdf: 1.026445e-01\n"
          ]
        }
      ],
      "source": [
        "\n",
        "prob_cdf = hypergeom.cdf(k=k, M=M, n=n, N=N) - hypergeom.cdf(k=k-1, M=M, n=n, N=N)\n",
        "print(f'P(X={k}) usando hypergeom.cdf: {prob_cdf:.6e}')"
      ]
    },
    {
      "cell_type": "markdown",
      "id": "QOpMad2xNb20",
      "metadata": {
        "id": "QOpMad2xNb20"
      },
      "source": [
        "# Usando PMF da Distribuição Hipergeométrica: P(X=k)"
      ]
    },
    {
      "cell_type": "code",
      "execution_count": null,
      "id": "lWmYybltNbOn",
      "metadata": {
        "id": "lWmYybltNbOn"
      },
      "outputs": [],
      "source": [
        "prob_pmf = hypergeom.pmf(k=k, M=M, n=n, N=N)\n",
        "print(f'P(X={k}) usando hypergeom.pmf: {prob_pmf:.6e}')"
      ]
    },
    {
      "cell_type": "code",
      "execution_count": null,
      "id": "Y_aIbbKyNgl3",
      "metadata": {
        "id": "Y_aIbbKyNgl3"
      },
      "outputs": [],
      "source": [
        "# Função para combinação (C(n, x))\n",
        "def combinacao(n, x):\n",
        "    return factorial(n) // factorial(x) // factorial(n - x)\n",
        "\n",
        "# Calculando manualmente (fórmula da distribuição hipergeométrica)\n",
        "prob_manual = combinacao(n, k) * combinacao(M - n, N - k) / combinacao(M, N)\n",
        "print(f'P(X={k}) cálculo manual: {prob_manual:.6e}')"
      ]
    }
  ],
  "metadata": {
    "colab": {
      "include_colab_link": true,
      "provenance": []
    },
    "kernelspec": {
      "display_name": "Python (PUC)",
      "language": "python",
      "name": "puc"
    },
    "language_info": {
      "codemirror_mode": {
        "name": "ipython",
        "version": 3
      },
      "file_extension": ".py",
      "mimetype": "text/x-python",
      "name": "python",
      "nbconvert_exporter": "python",
      "pygments_lexer": "ipython3",
      "version": "3.12.10"
    }
  },
  "nbformat": 4,
  "nbformat_minor": 5
}
