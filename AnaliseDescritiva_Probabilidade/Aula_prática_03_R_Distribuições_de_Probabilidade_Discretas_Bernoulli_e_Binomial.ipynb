{
  "cells": [
    {
      "cell_type": "markdown",
      "metadata": {
        "colab_type": "text",
        "id": "view-in-github"
      },
      "source": [
        "<a href=\"https://colab.research.google.com/github/ferpatugo/Estatistica-Python/blob/main/Aula_pr%C3%A1tica_03_R_Distribui%C3%A7%C3%B5es_de_Probabilidade_Discretas_Bernoulli_e_Binomial.ipynb\" target=\"_parent\"><img src=\"https://colab.research.google.com/assets/colab-badge.svg\" alt=\"Open In Colab\"/></a>"
      ]
    },
    {
      "cell_type": "markdown",
      "id": "2h8LWwNRAN8Z",
      "metadata": {
        "id": "2h8LWwNRAN8Z"
      },
      "source": [
        "# Carregando bibliotecas"
      ]
    },
    {
      "cell_type": "code",
      "execution_count": 1,
      "id": "_3KadsIa_-A7",
      "metadata": {
        "id": "_3KadsIa_-A7"
      },
      "outputs": [],
      "source": [
        "# Aula prática 03 - Python - Distribuições de Probabilidade Discretas - Bernoulli e Binomial\n",
        "from scipy.stats import binom\n",
        "import math"
      ]
    },
    {
      "cell_type": "markdown",
      "id": "jWju7TtCAM6Q",
      "metadata": {
        "id": "jWju7TtCAM6Q"
      },
      "source": [
        "# Exemplo Bernoulli"
      ]
    },
    {
      "cell_type": "markdown",
      "id": "YXGnQ8fuBFn1",
      "metadata": {
        "id": "YXGnQ8fuBFn1"
      },
      "source": [
        "### Imaginemos que X=\"O aluno acertar uma questão na prova\", sendo que a prova só tem uma questão, contendo certo ou errado, portanto podemos entender que o aluno tem uma resposta favorável em duas possíveis, 50% de chance de acertar a questão.\n"
      ]
    },
    {
      "cell_type": "code",
      "execution_count": 2,
      "id": "IiRll2qvALkj",
      "metadata": {
        "id": "IiRll2qvALkj"
      },
      "outputs": [
        {
          "name": "stdout",
          "output_type": "stream",
          "text": [
            "P(X=1) usando pmf: 0.5000\n"
          ]
        }
      ],
      "source": [
        "p = 0.5  # Probabilidade de sucesso\n",
        "n = 1    # Número de experimentos\n",
        "\n",
        "# 1. Probabilidade de acertar exatamente 1 questão (P(X=1))\n",
        "prob_x1 = binom.pmf(1, n, p)\n",
        "print(f'P(X=1) usando pmf: {prob_x1:.4f}')"
      ]
    },
    {
      "cell_type": "markdown",
      "id": "AwaswzYsAYds",
      "metadata": {
        "id": "AwaswzYsAYds"
      },
      "source": [
        "# 2. Mesmo cálculo usando função de distribuição acumulada"
      ]
    },
    {
      "cell_type": "code",
      "execution_count": 3,
      "id": "xzG0cchaAXc7",
      "metadata": {
        "id": "xzG0cchaAXc7"
      },
      "outputs": [
        {
          "name": "stdout",
          "output_type": "stream",
          "text": [
            "P(X=1) usando cdf: 0.5000\n"
          ]
        }
      ],
      "source": [
        "prob_x1_cdf = binom.cdf(1, n, p) - binom.cdf(0, n, p)\n",
        "print(f'P(X=1) usando cdf: {prob_x1_cdf:.4f}')"
      ]
    },
    {
      "cell_type": "markdown",
      "id": "lJHYG4SzC0q6",
      "metadata": {
        "id": "lJHYG4SzC0q6"
      },
      "source": [
        "### Imaginemos que X=\"O aluno acertar uma questão na prova\", sendo que a prova só tem duas questões, contendo certo ou errado, portanto podemos entender que o aluno tem uma resposta favorável em  duas possíveis, 50% de chance de acertar a questão.\n"
      ]
    },
    {
      "cell_type": "code",
      "execution_count": 4,
      "id": "KW-vK55FAr3X",
      "metadata": {
        "id": "KW-vK55FAr3X"
      },
      "outputs": [
        {
          "name": "stdout",
          "output_type": "stream",
          "text": [
            "P(X=1) em 2 questões usando pmf: 0.5000\n",
            "P(X=1) em 2 questões usando cdf: 0.5000\n"
          ]
        }
      ],
      "source": [
        "# Exemplo Binomial com 2 questões\n",
        "n = 2\n",
        "prob_x1_binom = binom.pmf(1, n, p)\n",
        "print(f'P(X=1) em 2 questões usando pmf: {prob_x1_binom:.4f}')\n",
        "prob_x1_binom_cdf = binom.cdf(1, n, p) - binom.cdf(0, n, p)\n",
        "print(f'P(X=1) em 2 questões usando cdf: {prob_x1_binom_cdf:.4f}')\n"
      ]
    },
    {
      "cell_type": "markdown",
      "id": "OGcJ2V2ODBHK",
      "metadata": {
        "id": "OGcJ2V2ODBHK"
      },
      "source": [
        "### Considere um exame de múltipla escolha com 20 questões, 5 alternativas pra cada pergunta. Caso o aluno não estude e \"chute\" todas as respostas, qual a probabilidade de acertar 30% da prova? E qual seu número esperado de acertos?"
      ]
    },
    {
      "cell_type": "code",
      "execution_count": 5,
      "id": "kcz35TeV_6jy",
      "metadata": {
        "id": "kcz35TeV_6jy"
      },
      "outputs": [
        {
          "name": "stdout",
          "output_type": "stream",
          "text": [
            "P(X=6) em 20 questões com p=0.2 usando pmf: 0.109100\n",
            "P(X=6) usando cdf: 0.109100\n",
            "Valor esperado de acertos: 4.0\n"
          ]
        }
      ],
      "source": [
        "# Exemplo 2 Binomial - 20 questões, 5 alternativas, p=0.2 chance de acertar ao acaso\n",
        "n = 20\n",
        "p = 0.2\n",
        "x = 6  # Número de acertos desejado\n",
        "\n",
        "prob_x6 = binom.pmf(x, n, p)\n",
        "print(f'P(X=6) em 20 questões com p=0.2 usando pmf: {prob_x6:.6f}')\n",
        "\n",
        "prob_x6_cdf = binom.cdf(x, n, p) - binom.cdf(x - 1, n, p)\n",
        "print(f'P(X=6) usando cdf: {prob_x6_cdf:.6f}')\n",
        "\n",
        "valor_esperado = n * p\n",
        "print(f'Valor esperado de acertos: {valor_esperado}')\n"
      ]
    }
  ],
  "metadata": {
    "colab": {
      "include_colab_link": true,
      "provenance": []
    },
    "kernelspec": {
      "display_name": "Python (PUC)",
      "language": "python",
      "name": "puc"
    },
    "language_info": {
      "codemirror_mode": {
        "name": "ipython",
        "version": 3
      },
      "file_extension": ".py",
      "mimetype": "text/x-python",
      "name": "python",
      "nbconvert_exporter": "python",
      "pygments_lexer": "ipython3",
      "version": "3.12.10"
    }
  },
  "nbformat": 4,
  "nbformat_minor": 5
}
