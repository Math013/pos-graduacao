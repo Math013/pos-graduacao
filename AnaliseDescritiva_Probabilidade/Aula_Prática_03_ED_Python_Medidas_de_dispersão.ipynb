{
  "cells": [
    {
      "cell_type": "markdown",
      "metadata": {
        "colab_type": "text",
        "id": "view-in-github"
      },
      "source": [
        "<a href=\"https://colab.research.google.com/github/ferpatugo/Estatistica-Python/blob/main/Aula_Pr%C3%A1tica_03_ED_Python_Tipos_de_frequ%C3%AAncia.ipynb\" target=\"_parent\"><img src=\"https://colab.research.google.com/assets/colab-badge.svg\" alt=\"Open In Colab\"/></a>"
      ]
    },
    {
      "cell_type": "markdown",
      "id": "t8hoBFZA1Air",
      "metadata": {
        "id": "t8hoBFZA1Air"
      },
      "source": [
        "# Análise do Banco de Dados Iris em Python\n"
      ]
    },
    {
      "cell_type": "markdown",
      "id": "_XIb6AFj1C6t",
      "metadata": {
        "id": "_XIb6AFj1C6t"
      },
      "source": [
        "# Carregando o banco"
      ]
    },
    {
      "cell_type": "code",
      "execution_count": 2,
      "id": "29dcba07",
      "metadata": {},
      "outputs": [
        {
          "name": "stdout",
          "output_type": "stream",
          "text": [
            "Collecting seaborn\n",
            "  Using cached seaborn-0.13.2-py3-none-any.whl.metadata (5.4 kB)\n",
            "Requirement already satisfied: numpy!=1.24.0,>=1.20 in c:\\users\\matheus\\miniconda3\\envs\\puc\\lib\\site-packages (from seaborn) (2.3.3)\n",
            "Requirement already satisfied: pandas>=1.2 in c:\\users\\matheus\\miniconda3\\envs\\puc\\lib\\site-packages (from seaborn) (2.3.2)\n",
            "Requirement already satisfied: matplotlib!=3.6.1,>=3.4 in c:\\users\\matheus\\miniconda3\\envs\\puc\\lib\\site-packages (from seaborn) (3.10.6)\n",
            "Requirement already satisfied: contourpy>=1.0.1 in c:\\users\\matheus\\miniconda3\\envs\\puc\\lib\\site-packages (from matplotlib!=3.6.1,>=3.4->seaborn) (1.3.1)\n",
            "Requirement already satisfied: cycler>=0.10 in c:\\users\\matheus\\miniconda3\\envs\\puc\\lib\\site-packages (from matplotlib!=3.6.1,>=3.4->seaborn) (0.11.0)\n",
            "Requirement already satisfied: fonttools>=4.22.0 in c:\\users\\matheus\\miniconda3\\envs\\puc\\lib\\site-packages (from matplotlib!=3.6.1,>=3.4->seaborn) (4.55.3)\n",
            "Requirement already satisfied: kiwisolver>=1.3.1 in c:\\users\\matheus\\miniconda3\\envs\\puc\\lib\\site-packages (from matplotlib!=3.6.1,>=3.4->seaborn) (1.4.8)\n",
            "Requirement already satisfied: packaging>=20.0 in c:\\users\\matheus\\appdata\\roaming\\python\\python313\\site-packages (from matplotlib!=3.6.1,>=3.4->seaborn) (24.2)\n",
            "Requirement already satisfied: pillow>=8 in c:\\users\\matheus\\miniconda3\\envs\\puc\\lib\\site-packages (from matplotlib!=3.6.1,>=3.4->seaborn) (11.1.0)\n",
            "Requirement already satisfied: pyparsing>=2.3.1 in c:\\users\\matheus\\miniconda3\\envs\\puc\\lib\\site-packages (from matplotlib!=3.6.1,>=3.4->seaborn) (3.2.0)\n",
            "Requirement already satisfied: python-dateutil>=2.7 in c:\\users\\matheus\\appdata\\roaming\\python\\python313\\site-packages (from matplotlib!=3.6.1,>=3.4->seaborn) (2.9.0.post0)\n",
            "Requirement already satisfied: pytz>=2020.1 in c:\\users\\matheus\\miniconda3\\envs\\puc\\lib\\site-packages (from pandas>=1.2->seaborn) (2025.2)\n",
            "Requirement already satisfied: tzdata>=2022.7 in c:\\users\\matheus\\miniconda3\\envs\\puc\\lib\\site-packages (from pandas>=1.2->seaborn) (2025.2)\n",
            "Requirement already satisfied: six>=1.5 in c:\\users\\matheus\\appdata\\roaming\\python\\python313\\site-packages (from python-dateutil>=2.7->matplotlib!=3.6.1,>=3.4->seaborn) (1.17.0)\n",
            "Using cached seaborn-0.13.2-py3-none-any.whl (294 kB)\n",
            "Installing collected packages: seaborn\n",
            "Successfully installed seaborn-0.13.2\n",
            "Note: you may need to restart the kernel to use updated packages.\n"
          ]
        }
      ],
      "source": [
        "%pip install seaborn"
      ]
    },
    {
      "cell_type": "code",
      "execution_count": 3,
      "id": "S5dPG4P51Ais",
      "metadata": {
        "id": "S5dPG4P51Ais"
      },
      "outputs": [],
      "source": [
        "import pandas as pd\n",
        "import numpy as np\n",
        "import seaborn as sns\n",
        "import matplotlib.pyplot as plt"
      ]
    },
    {
      "cell_type": "markdown",
      "id": "rer1ehCg1Lwx",
      "metadata": {
        "id": "rer1ehCg1Lwx"
      },
      "source": [
        "# Carregar dataset Iris do seaborn\n"
      ]
    },
    {
      "cell_type": "code",
      "execution_count": 4,
      "id": "SuvFz36K1Jzf",
      "metadata": {
        "id": "SuvFz36K1Jzf"
      },
      "outputs": [],
      "source": [
        "iris = sns.load_dataset('iris')"
      ]
    },
    {
      "cell_type": "markdown",
      "id": "3DRqpR8Y1aF-",
      "metadata": {
        "id": "3DRqpR8Y1aF-"
      },
      "source": [
        "# Amostra0: Sepal.Length"
      ]
    },
    {
      "cell_type": "code",
      "execution_count": 5,
      "id": "ndVlKDNT1SrD",
      "metadata": {
        "id": "ndVlKDNT1SrD"
      },
      "outputs": [],
      "source": [
        "a0 = iris['sepal_length']"
      ]
    },
    {
      "cell_type": "markdown",
      "id": "E2vW05A91d3W",
      "metadata": {
        "id": "E2vW05A91d3W"
      },
      "source": [
        "# Tamanho das sepalas"
      ]
    },
    {
      "cell_type": "code",
      "execution_count": 6,
      "id": "h8-c10hW1fsb",
      "metadata": {
        "id": "h8-c10hW1fsb"
      },
      "outputs": [],
      "source": [
        "length_a0 = len(a0)\n",
        "\n",
        "# Ordenado\n",
        "sorted_a0 = np.sort(a0)\n",
        "\n",
        "# Amplitude amostral\n",
        "h0 = np.ptp(a0)  # peak to peak (max - min)\n",
        "\n",
        "# Variancia amostral (ddof=1)\n",
        "var0 = np.var(a0, ddof=1)\n",
        "\n",
        "# Variancia populacional (ddof=0)\n",
        "var0_pop = np.var(a0, ddof=0)\n",
        "\n",
        "# Desvio padrao amostral\n",
        "sd0 = np.std(a0, ddof=1)\n",
        "\n",
        "# Media e intervalos +/- 2 desvios padrao\n",
        "mean_a0 = np.mean(a0)\n",
        "low_lim_a0 = mean_a0 - 2*sd0\n",
        "high_lim_a0 = mean_a0 + 2*sd0\n",
        "\n",
        "# Coeficiente de variacao\n",
        "cv0 = sd0 / mean_a0 * 100"
      ]
    },
    {
      "cell_type": "markdown",
      "id": "1sLpD59e1rns",
      "metadata": {
        "id": "1sLpD59e1rns"
      },
      "source": [
        "# Tamanho das pétalas"
      ]
    },
    {
      "cell_type": "code",
      "execution_count": 7,
      "id": "gZOpCbkp1YC9",
      "metadata": {
        "id": "gZOpCbkp1YC9"
      },
      "outputs": [],
      "source": [
        "# Amostra1: Petal.Length\n",
        "a1 = iris['petal_length']\n",
        "\n",
        "# Ordenado\n",
        "sorted_a1 = np.sort(a1)\n",
        "\n",
        "# Amplitude amostral\n",
        "h1 = np.ptp(a1)\n",
        "\n",
        "# Variancia amostral\n",
        "var1 = np.var(a1, ddof=1)\n",
        "\n",
        "# Desvio padrao amostral\n",
        "sd1 = np.std(a1, ddof=1)\n",
        "\n",
        "# Media e intervalos +/- 2 desvios\n",
        "mean_a1 = np.mean(a1)\n",
        "low_lim_a1 = mean_a1 - 2*sd1\n",
        "high_lim_a1 = mean_a1 + 2*sd1\n",
        "\n",
        "# Coeficiente de variacao\n",
        "cv1 = sd1 / mean_a1 * 100"
      ]
    },
    {
      "cell_type": "code",
      "execution_count": 8,
      "id": "SDmqPj6d14LP",
      "metadata": {
        "colab": {
          "base_uri": "https://localhost:8080/",
          "height": 206
        },
        "id": "SDmqPj6d14LP",
        "outputId": "0babc8fc-c2bb-4c74-e7c5-ba475b96e13e"
      },
      "outputs": [
        {
          "data": {
            "text/html": [
              "<div>\n",
              "<style scoped>\n",
              "    .dataframe tbody tr th:only-of-type {\n",
              "        vertical-align: middle;\n",
              "    }\n",
              "\n",
              "    .dataframe tbody tr th {\n",
              "        vertical-align: top;\n",
              "    }\n",
              "\n",
              "    .dataframe thead th {\n",
              "        text-align: right;\n",
              "    }\n",
              "</style>\n",
              "<table border=\"1\" class=\"dataframe\">\n",
              "  <thead>\n",
              "    <tr style=\"text-align: right;\">\n",
              "      <th></th>\n",
              "      <th>resumo_tamanho_Sepala</th>\n",
              "      <th>resumo_tamanho_Petala</th>\n",
              "    </tr>\n",
              "  </thead>\n",
              "  <tbody>\n",
              "    <tr>\n",
              "      <th>amplitude</th>\n",
              "      <td>3.600000</td>\n",
              "      <td>5.900000</td>\n",
              "    </tr>\n",
              "    <tr>\n",
              "      <th>variancia</th>\n",
              "      <td>0.685694</td>\n",
              "      <td>3.116278</td>\n",
              "    </tr>\n",
              "    <tr>\n",
              "      <th>desvio_padrao</th>\n",
              "      <td>0.828066</td>\n",
              "      <td>1.765298</td>\n",
              "    </tr>\n",
              "    <tr>\n",
              "      <th>media</th>\n",
              "      <td>5.843333</td>\n",
              "      <td>3.758000</td>\n",
              "    </tr>\n",
              "    <tr>\n",
              "      <th>coeficiente_variacao</th>\n",
              "      <td>14.171126</td>\n",
              "      <td>46.974407</td>\n",
              "    </tr>\n",
              "  </tbody>\n",
              "</table>\n",
              "</div>"
            ],
            "text/plain": [
              "                      resumo_tamanho_Sepala  resumo_tamanho_Petala\n",
              "amplitude                          3.600000               5.900000\n",
              "variancia                          0.685694               3.116278\n",
              "desvio_padrao                      0.828066               1.765298\n",
              "media                              5.843333               3.758000\n",
              "coeficiente_variacao              14.171126              46.974407"
            ]
          },
          "execution_count": 8,
          "metadata": {},
          "output_type": "execute_result"
        }
      ],
      "source": [
        "# Consolidacao para Sepal.Length\n",
        "dados_a0_consolidados = pd.DataFrame({\n",
        "    'amplitude': [h0],\n",
        "    'variancia': [var0],\n",
        "    'desvio_padrao': [sd0],\n",
        "    'media': [mean_a0],\n",
        "    'coeficiente_variacao': [cv0]\n",
        "})\n",
        "\n",
        "# Consolidacao para Petal.Length\n",
        "dados_a1_consolidados = pd.DataFrame({\n",
        "    'amplitude': [h1],\n",
        "    'variancia': [var1],\n",
        "    'desvio_padrao': [sd1],\n",
        "    'media': [mean_a1],\n",
        "    'coeficiente_variacao': [cv1]\n",
        "})\n",
        "\n",
        "# Resumo comparativo (transposto)\n",
        "consolidado_comparativo = pd.concat([dados_a0_consolidados.T, dados_a1_consolidados.T], axis=1)\n",
        "consolidado_comparativo.columns = ['resumo_tamanho_Sepala', 'resumo_tamanho_Petala']\n",
        "\n",
        "consolidado_comparativo\n"
      ]
    },
    {
      "cell_type": "markdown",
      "id": "Ywzq9p4K2M3L",
      "metadata": {
        "id": "Ywzq9p4K2M3L"
      },
      "source": [
        "\n",
        "# Resultados resumidos"
      ]
    },
    {
      "cell_type": "code",
      "execution_count": 12,
      "id": "vKyclWx62Lw4",
      "metadata": {
        "colab": {
          "base_uri": "https://localhost:8080/"
        },
        "id": "vKyclWx62Lw4",
        "outputId": "4b804ead-d469-4088-c1f2-46318f07d3be"
      },
      "outputs": [
        {
          "name": "stdout",
          "output_type": "stream",
          "text": [
            "Resumo Sepal.Length:\n",
            "    amplitude  variancia  desvio_padrao     media  coeficiente_variacao\n",
            "0        3.6   0.685694       0.828066  5.843333             14.171126\n",
            "\n",
            "Resumo Petal.Length:\n",
            "    amplitude  variancia  desvio_padrao  media  coeficiente_variacao\n",
            "0        5.9   3.116278       1.765298  3.758             46.974407\n",
            "\n",
            "Resumo comparativo:\n",
            "                       resumo_tamanho_Sepala  resumo_tamanho_Petala\n",
            "amplitude                          3.600000               5.900000\n",
            "variancia                          0.685694               3.116278\n",
            "desvio_padrao                      0.828066               1.765298\n",
            "media                              5.843333               3.758000\n",
            "coeficiente_variacao              14.171126              46.974407\n",
            "\n",
            "Media Sepal.Length: 5.843333333333334, Media Petal.Length: 3.7580000000000005\n"
          ]
        }
      ],
      "source": [
        "print(\"Resumo Sepal.Length:\\n\", dados_a0_consolidados)\n",
        "print(\"\\nResumo Petal.Length:\\n\", dados_a1_consolidados)\n",
        "print(\"\\nResumo comparativo:\\n\", consolidado_comparativo)\n",
        "print(f\"\\nMedia Sepal.Length: {mean_a0}, Media Petal.Length: {mean_a1}\")"
      ]
    },
    {
      "cell_type": "markdown",
      "id": "lutPwxT_2Hmn",
      "metadata": {
        "id": "lutPwxT_2Hmn"
      },
      "source": [
        "# Comparacao entre duas carteiras"
      ]
    },
    {
      "cell_type": "code",
      "execution_count": 10,
      "id": "Z0w4Y2JP2GgE",
      "metadata": {
        "id": "Z0w4Y2JP2GgE"
      },
      "outputs": [],
      "source": [
        "\n",
        "a = np.array([50, 60, 70])\n",
        "b = np.array([-20, 140])\n",
        "\n",
        "mean_a = np.mean(a)\n",
        "mean_b = np.mean(b)\n",
        "median_a = np.median(a)\n",
        "median_b = np.median(b)\n",
        "sd_a = np.std(a, ddof=1)\n",
        "sd_b = np.std(b, ddof=1)\n",
        "cv_a = sd_a / mean_a * 100\n",
        "cv_b = sd_b / mean_b * 100\n"
      ]
    },
    {
      "cell_type": "code",
      "execution_count": 11,
      "id": "5J6PMx7k2hwr",
      "metadata": {
        "colab": {
          "base_uri": "https://localhost:8080/"
        },
        "id": "5J6PMx7k2hwr",
        "outputId": "f19c0882-4658-42dd-c61e-4b7f17a4f270"
      },
      "outputs": [
        {
          "name": "stdout",
          "output_type": "stream",
          "text": [
            "\n",
            "Comparacao entre carteiras:\n",
            "Media a: 60.0, Media b: 60.0\n",
            "Mediana a: 60.0, Mediana b: 60.0\n",
            "Desvio padrao a: 10.0, Desvio padrao b: 113.13708498984761\n",
            "Coeficiente de variacao a: 16.67%, b: 188.56%\n"
          ]
        }
      ],
      "source": [
        "print(\"\\nComparacao entre carteiras:\")\n",
        "print(f\"Media a: {mean_a}, Media b: {mean_b}\")\n",
        "print(f\"Mediana a: {median_a}, Mediana b: {median_b}\")\n",
        "print(f\"Desvio padrao a: {sd_a}, Desvio padrao b: {sd_b}\")\n",
        "print(f\"Coeficiente de variacao a: {cv_a:.2f}%, b: {cv_b:.2f}%\")"
      ]
    }
  ],
  "metadata": {
    "colab": {
      "include_colab_link": true,
      "provenance": []
    },
    "kernelspec": {
      "display_name": "PUC",
      "language": "python",
      "name": "python3"
    },
    "language_info": {
      "codemirror_mode": {
        "name": "ipython",
        "version": 3
      },
      "file_extension": ".py",
      "mimetype": "text/x-python",
      "name": "python",
      "nbconvert_exporter": "python",
      "pygments_lexer": "ipython3",
      "version": "3.13.7"
    }
  },
  "nbformat": 4,
  "nbformat_minor": 5
}
