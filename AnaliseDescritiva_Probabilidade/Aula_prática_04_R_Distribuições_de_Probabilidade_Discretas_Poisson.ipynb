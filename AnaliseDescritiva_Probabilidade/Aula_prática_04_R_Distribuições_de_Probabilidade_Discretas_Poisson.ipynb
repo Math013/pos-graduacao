{
  "cells": [
    {
      "cell_type": "markdown",
      "metadata": {
        "colab_type": "text",
        "id": "view-in-github"
      },
      "source": [
        "<a href=\"https://colab.research.google.com/github/ferpatugo/Estatistica-Python/blob/main/Aula_pr%C3%A1tica_04_R_Distribui%C3%A7%C3%B5es_de_Probabilidade_Discretas_Poisson.ipynb\" target=\"_parent\"><img src=\"https://colab.research.google.com/assets/colab-badge.svg\" alt=\"Open In Colab\"/></a>"
      ]
    },
    {
      "cell_type": "code",
      "execution_count": 1,
      "id": "QsOutPsmFES6",
      "metadata": {
        "id": "QsOutPsmFES6"
      },
      "outputs": [],
      "source": [
        "# Aula prática 04 - Python - Distribuições de Probabilidade Discretas - Poisson\n",
        "import math\n",
        "from scipy.stats import poisson"
      ]
    },
    {
      "cell_type": "code",
      "execution_count": null,
      "id": "bEzNtotsFJ-O",
      "metadata": {
        "id": "bEzNtotsFJ-O"
      },
      "outputs": [],
      "source": [
        "### O número de acidentes que acontecem na ponte Rio Niterói segue uma distribuição de Poisson com média 3 por hora.\n",
        "\n",
        "### a) Calcule a probabilidade de 2 acidentes em uma hora.\n",
        "\n",
        "### b) Calcule a probabilidade de pelo menos 2 acidentes em 2 horas."
      ]
    },
    {
      "cell_type": "markdown",
      "id": "XjSX1s-8Fhp7",
      "metadata": {
        "id": "XjSX1s-8Fhp7"
      },
      "source": [
        "# a) Probabilidade de 2 acidentes em 1 hora (lambda = 3)"
      ]
    },
    {
      "cell_type": "code",
      "execution_count": 2,
      "id": "V2LkwdN0FHk1",
      "metadata": {
        "id": "V2LkwdN0FHk1"
      },
      "outputs": [
        {
          "name": "stdout",
          "output_type": "stream",
          "text": [
            "P(X=2) em 1 hora: 0.224042\n"
          ]
        }
      ],
      "source": [
        "# Dados do problema\n",
        "lamb_hour = 3  # Média de acidentes por hora\n",
        "\n",
        "\n",
        "prob_2_accidents_1h = poisson.pmf(2, lamb_hour)\n",
        "print(f'P(X=2) em 1 hora: {prob_2_accidents_1h:.6f}')\n"
      ]
    },
    {
      "cell_type": "code",
      "execution_count": null,
      "id": "LZTB5Bq9FRoj",
      "metadata": {
        "id": "LZTB5Bq9FRoj"
      },
      "outputs": [],
      "source": [
        "# Verificação usando função acumulada\n",
        "prob_2_accidents_1h_cdf = poisson.cdf(2, lamb_hour) - poisson.cdf(1, lamb_hour)\n",
        "print(f'P(X=2) usando cdf: {prob_2_accidents_1h_cdf:.6f}')"
      ]
    },
    {
      "cell_type": "code",
      "execution_count": null,
      "id": "iXK8dNjSFkCm",
      "metadata": {
        "id": "iXK8dNjSFkCm"
      },
      "outputs": [],
      "source": []
    },
    {
      "cell_type": "code",
      "execution_count": null,
      "id": "3c-nCPZ4FaMQ",
      "metadata": {
        "id": "3c-nCPZ4FaMQ"
      },
      "outputs": [],
      "source": [
        "# Cálculo manual da PMF de Poisson para X=2\n",
        "prob_manual = (lamb_hour ** 2) * math.exp(-lamb_hour) / math.factorial(2)\n",
        "print(f'P(X=2) cálculo manual: {prob_manual:.6f}')"
      ]
    },
    {
      "cell_type": "markdown",
      "id": "Kiv-js-qFTZu",
      "metadata": {
        "id": "Kiv-js-qFTZu"
      },
      "source": [
        "# b) Probabilidade de pelo menos 2 acidentes em 2 horas"
      ]
    },
    {
      "cell_type": "code",
      "execution_count": null,
      "id": "QRlER6FaFCmz",
      "metadata": {
        "id": "QRlER6FaFCmz"
      },
      "outputs": [],
      "source": [
        "\n",
        "lamb_2hours = lamb_hour * 2  # Ajuste do lambda proporcional ao tempo\n",
        "# P(X >= 2) = 1 - P(X < 2) = 1 - P(X <= 1)\n",
        "prob_at_least_2_2h = 1 - poisson.cdf(1, lamb_2hours)\n",
        "print(f'P(X>=2) em 2 horas: {prob_at_least_2_2h:.6f}')\n",
        "\n",
        "# Verificação somando complementares de PMF para 0 e 1 acidentes\n",
        "prob_at_least_2_2h_alt = 1 - (poisson.pmf(0, lamb_2hours) + poisson.pmf(1, lamb_2hours))\n",
        "print(f'P(X>=2) em 2 horas verificação alternativa: {prob_at_least_2_2h_alt:.6f}')\n"
      ]
    }
  ],
  "metadata": {
    "colab": {
      "include_colab_link": true,
      "provenance": []
    },
    "kernelspec": {
      "display_name": "Python (PUC)",
      "language": "python",
      "name": "puc"
    },
    "language_info": {
      "codemirror_mode": {
        "name": "ipython",
        "version": 3
      },
      "file_extension": ".py",
      "mimetype": "text/x-python",
      "name": "python",
      "nbconvert_exporter": "python",
      "pygments_lexer": "ipython3",
      "version": "3.12.10"
    }
  },
  "nbformat": 4,
  "nbformat_minor": 5
}
