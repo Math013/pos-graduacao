{
 "cells": [
  {
   "cell_type": "markdown",
   "metadata": {},
   "source": [
    "# Exercícios de Python - Estruturas de Repetição\n",
    "\n",
    "Este notebook contém 10 exercícios práticos para treinar estruturas de repetição em Python."
   ]
  },
  {
   "cell_type": "markdown",
   "metadata": {},
   "source": [
    "### Exercício 1\n",
    "\n",
    "Faça um programa que faça a leitura de 5 valores, e para cada valor, mostre o seu dobro na tela."
   ]
  },
  {
   "cell_type": "code",
   "execution_count": null,
   "metadata": {},
   "outputs": [],
   "source": [
    "# Exercício 1 - Dobro de 5 valores\n",
    "print(\"=== Exercício 1 - Dobro de 5 valores ===\")\n",
    "\n",
    "for i in range(5):\n",
    "    valor = float(input(f\"Digite o {i+1}º valor: \"))\n",
    "    dobro = valor * 2\n",
    "    print(f\"O dobro de {valor} é {dobro}\")\n",
    "\n",
    "print(\"Fim do exercício 1\\n\")"
   ]
  },
  {
   "cell_type": "markdown",
   "metadata": {},
   "source": [
    "### Exercício 2\n",
    "\n",
    "Faça um programa que leia um número e que imprima os números ímpares de 1 até o número informado."
   ]
  },
  {
   "cell_type": "code",
   "execution_count": null,
   "metadata": {},
   "outputs": [],
   "source": [
    "# Exercício 2 - Números ímpares\n",
    "print(\"=== Exercício 2 - Números ímpares ===\")\n",
    "\n",
    "numero = int(input(\"Digite um número: \"))\n",
    "print(f\"Números ímpares de 1 até {numero}:\")\n",
    "\n",
    "for i in range(1, numero + 1):\n",
    "    if i % 2 == 1:  # Verifica se é ímpar\n",
    "        print(i, end=\" \")\n",
    "\n",
    "print(\"\\nFim do exercício 2\\n\")"
   ]
  },
  {
   "cell_type": "markdown",
   "metadata": {},
   "source": [
    "### Exercício 3\n",
    "\n",
    "Leia um número e imprima a tabuada de multiplicar deste número.\n",
    "\n",
    "Por exemplo, para o número 5:\n",
    "- 5 X 1 = 5\n",
    "- 5 X 2 = 10\n",
    "- 5 X 3 = 15\n",
    "- ...\n",
    "- 5 X 10 = 50"
   ]
  },
  {
   "cell_type": "code",
   "execution_count": null,
   "metadata": {},
   "outputs": [],
   "source": [
    "# Exercício 3 - Tabuada\n",
    "print(\"=== Exercício 3 - Tabuada ===\")\n",
    "\n",
    "numero = int(input(\"Digite um número para ver sua tabuada: \"))\n",
    "print(f\"Tabuada do {numero}:\")\n",
    "\n",
    "for i in range(1, 11):\n",
    "    resultado = numero * i\n",
    "    print(f\"{numero} X {i} = {resultado}\")\n",
    "\n",
    "print(\"Fim do exercício 3\\n\")"
   ]
  },
  {
   "cell_type": "markdown",
   "metadata": {},
   "source": [
    "### Exercício 4\n",
    "\n",
    "Faça um programa que leia dois números inteiros e que imprima todos os números inteiros existentes entre o menor e o maior número informados."
   ]
  },
  {
   "cell_type": "code",
   "execution_count": null,
   "metadata": {},
   "outputs": [],
   "source": [
    "# Exercício 4 - Números entre dois valores\n",
    "print(\"=== Exercício 4 - Números entre dois valores ===\")\n",
    "\n",
    "num1 = int(input(\"Digite o primeiro número: \"))\n",
    "num2 = int(input(\"Digite o segundo número: \"))\n",
    "\n",
    "# Determina o menor e maior número\n",
    "menor = min(num1, num2)\n",
    "maior = max(num1, num2)\n",
    "\n",
    "print(f\"Números inteiros entre {menor} e {maior}:\")\n",
    "\n",
    "for i in range(menor, maior + 1):\n",
    "    print(i, end=\" \")\n",
    "\n",
    "print(\"\\nFim do exercício 4\\n\")"
   ]
  },
  {
   "cell_type": "markdown",
   "metadata": {},
   "source": [
    "### Exercício 5\n",
    "\n",
    "Faça um programa que leia um número que calcule a soma dos números inteiros entre 1 e o número informado."
   ]
  },
  {
   "cell_type": "code",
   "execution_count": null,
   "metadata": {},
   "outputs": [],
   "source": [
    "# Exercício 5 - Soma dos números de 1 até n\n",
    "print(\"=== Exercício 5 - Soma dos números de 1 até n ===\")\n",
    "\n",
    "numero = int(input(\"Digite um número: \"))\n",
    "soma = 0\n",
    "\n",
    "for i in range(1, numero + 1):\n",
    "    soma += i\n",
    "\n",
    "print(f\"A soma dos números de 1 até {numero} é: {soma}\")\n",
    "print(\"Fim do exercício 5\\n\")"
   ]
  },
  {
   "cell_type": "markdown",
   "metadata": {},
   "source": [
    "### Exercício 6\n",
    "\n",
    "Faça um programa que leia um número e que calcule o fatorial deste número."
   ]
  },
  {
   "cell_type": "code",
   "execution_count": null,
   "metadata": {},
   "outputs": [],
   "source": [
    "# Exercício 6 - Fatorial\n",
    "print(\"=== Exercício 6 - Fatorial ===\")\n",
    "\n",
    "numero = int(input(\"Digite um número para calcular seu fatorial: \"))\n",
    "\n",
    "if numero < 0:\n",
    "    print(\"Não é possível calcular fatorial de número negativo!\")\n",
    "else:\n",
    "    fatorial = 1\n",
    "    \n",
    "    for i in range(1, numero + 1):\n",
    "        fatorial *= i\n",
    "    \n",
    "    print(f\"O fatorial de {numero} é: {fatorial}\")\n",
    "\n",
    "print(\"Fim do exercício 6\\n\")"
   ]
  },
  {
   "cell_type": "markdown",
   "metadata": {},
   "source": [
    "### Exercício 7\n",
    "\n",
    "Faça um programa que solicite ao usuário que informe o peso, em kg, de 10 pessoas, e em seguida, exiba a média desses pesos."
   ]
  },
  {
   "cell_type": "code",
   "execution_count": null,
   "metadata": {},
   "outputs": [],
   "source": [
    "# Exercício 7 - Média de pesos\n",
    "print(\"=== Exercício 7 - Média de pesos ===\")\n",
    "\n",
    "soma_pesos = 0\n",
    "quantidade_pessoas = 10\n",
    "\n",
    "for i in range(quantidade_pessoas):\n",
    "    peso = float(input(f\"Digite o peso da {i+1}ª pessoa (em kg): \"))\n",
    "    soma_pesos += peso\n",
    "\n",
    "media_pesos = soma_pesos / quantidade_pessoas\n",
    "\n",
    "print(f\"A média dos pesos das {quantidade_pessoas} pessoas é: {media_pesos:.2f} kg\")\n",
    "print(\"Fim do exercício 7\\n\")"
   ]
  },
  {
   "cell_type": "markdown",
   "metadata": {},
   "source": [
    "### Exercício 8\n",
    "\n",
    "Faça um programa que leia o sexo e o peso de 10 pessoas, e mostre quantas pessoas do sexo masculino possuem peso entre 60 e 80 kg, bem como a quantidade de mulheres que possuem peso entre 50 e 70 kg."
   ]
  },
  {
   "cell_type": "code",
   "execution_count": null,
   "metadata": {},
   "outputs": [],
   "source": [
    "# Exercício 8 - Contagem por sexo e peso\n",
    "print(\"=== Exercício 8 - Contagem por sexo e peso ===\")\n",
    "\n",
    "homens_60_80 = 0\n",
    "mulheres_50_70 = 0\n",
    "\n",
    "for i in range(10):\n",
    "    print(f\"\\nPessoa {i+1}:\")\n",
    "    sexo = input(\"Digite o sexo (M/F): \").upper()\n",
    "    peso = float(input(\"Digite o peso (em kg): \"))\n",
    "    \n",
    "    if sexo == 'M' and 60 <= peso <= 80:\n",
    "        homens_60_80 += 1\n",
    "    elif sexo == 'F' and 50 <= peso <= 70:\n",
    "        mulheres_50_70 += 1\n",
    "\n",
    "print(f\"\\nResultados:\")\n",
    "print(f\"Homens com peso entre 60 e 80 kg: {homens_60_80}\")\n",
    "print(f\"Mulheres com peso entre 50 e 70 kg: {mulheres_50_70}\")\n",
    "print(\"Fim do exercício 8\\n\")"
   ]
  },
  {
   "cell_type": "markdown",
   "metadata": {},
   "source": [
    "### Exercício 9\n",
    "\n",
    "Faça um programa que leia a idade e peso de sete pessoas. Calcule e mostre:\n",
    "- a quantidade de pessoas com mais de 90 kg\n",
    "- a média das idades das sete pessoas"
   ]
  },
  {
   "cell_type": "code",
   "execution_count": null,
   "metadata": {},
   "outputs": [],
   "source": [
    "# Exercício 9 - Análise de idade e peso\n",
    "print(\"=== Exercício 9 - Análise de idade e peso ===\")\n",
    "\n",
    "pessoas_acima_90kg = 0\n",
    "soma_idades = 0\n",
    "quantidade_pessoas = 7\n",
    "\n",
    "for i in range(quantidade_pessoas):\n",
    "    print(f\"\\nPessoa {i+1}:\")\n",
    "    idade = int(input(\"Digite a idade: \"))\n",
    "    peso = float(input(\"Digite o peso (em kg): \"))\n",
    "    \n",
    "    soma_idades += idade\n",
    "    \n",
    "    if peso > 90:\n",
    "        pessoas_acima_90kg += 1\n",
    "\n",
    "media_idades = soma_idades / quantidade_pessoas\n",
    "\n",
    "print(f\"\\nResultados:\")\n",
    "print(f\"Quantidade de pessoas com mais de 90 kg: {pessoas_acima_90kg}\")\n",
    "print(f\"Média das idades das {quantidade_pessoas} pessoas: {media_idades:.2f} anos\")\n",
    "print(\"Fim do exercício 9\\n\")"
   ]
  },
  {
   "cell_type": "markdown",
   "metadata": {},
   "source": [
    "### Exercício 10\n",
    "\n",
    "Faça um programa que leia um número e que imprima na tela se o número é primo ou não."
   ]
  },
  {
   "cell_type": "code",
   "execution_count": null,
   "metadata": {},
   "outputs": [],
   "source": [
    "# Exercício 10 - Verificar número primo\n",
    "print(\"=== Exercício 10 - Verificar número primo ===\")\n",
    "\n",
    "numero = int(input(\"Digite um número: \"))\n",
    "\n",
    "if numero <= 1:\n",
    "    print(f\"{numero} não é um número primo.\")\n",
    "elif numero == 2:\n",
    "    print(f\"{numero} é um número primo.\")\n",
    "else:\n",
    "    eh_primo = True\n",
    "    \n",
    "    # Verifica se o número tem divisores além de 1 e ele mesmo\n",
    "    for i in range(2, int(numero ** 0.5) + 1):\n",
    "        if numero % i == 0:\n",
    "            eh_primo = False\n",
    "            break\n",
    "    \n",
    "    if eh_primo:\n",
    "        print(f\"{numero} é um número primo.\")\n",
    "    else:\n",
    "        print(f\"{numero} não é um número primo.\")\n",
    "\n",
    "print(\"Fim do exercício 10\")"
   ]
  }
 ],
 "metadata": {
  "kernelspec": {
   "display_name": "Python 3",
   "language": "python",
   "name": "python3"
  },
  "language_info": {
   "codemirror_mode": {
    "name": "ipython",
    "version": 3
   },
   "file_extension": ".py",
   "mimetype": "text/x-python",
   "name": "python",
   "nbconvert_exporter": "python",
   "pygments_lexer": "ipython3",
   "version": "3.8.5"
  }
 },
 "nbformat": 4,
 "nbformat_minor": 4
}